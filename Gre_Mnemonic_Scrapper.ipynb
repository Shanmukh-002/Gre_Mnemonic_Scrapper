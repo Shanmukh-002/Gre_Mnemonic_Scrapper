{
 "cells": [
  {
   "cell_type": "code",
   "execution_count": 1,
   "id": "a14c784c",
   "metadata": {},
   "outputs": [],
   "source": [
    "import requests\n",
    "from bs4 import BeautifulSoup\n",
    "import pandas as pd\n",
    "import time\n",
    "import random\n",
    "\n",
    "# Read the list of words from an Excel file\n",
    "df = pd.read_excel('C:/Users/Lenovo/Desktop/shanu tech dump/web scrapper/input_file.xlsx')\n",
    "\n",
    "# Create an empty DataFrame to store the mnemonics\n",
    "mnemonics_df = pd.DataFrame(columns=['Word', 'Mnemonic 1', 'Mnemonic 2', 'Mnemonic 3'])\n",
    "\n",
    "# Create a session object for making requests\n",
    "session = requests.Session()\n",
    "\n",
    "# Loop through each word in the list\n",
    "for word in df['Word']:\n",
    "    try:\n",
    "        # Make a GET request to the website using the session object\n",
    "        url = f'https://mnemonicdictionary.com/word/{word}'\n",
    "        response = session.get(url, timeout=10)\n",
    "        \n",
    "        # Use BeautifulSoup to parse the HTML content\n",
    "        soup = BeautifulSoup(response.content, 'html.parser')\n",
    "        \n",
    "        # Find the mnemonics section and extract up to 3 mnemonics\n",
    "        mnemonics_list = soup.find_all('div', {'class': 'card-text'})[:3]\n",
    "        mnemonics = []\n",
    "        for mnemonic in mnemonics_list:\n",
    "            mnemonics.append(mnemonic.get_text())\n",
    "        \n",
    "        # Append the word and mnemonics to the DataFrame\n",
    "        mnemonics_df = mnemonics_df.append({'Word': word, 'Mnemonic 1': mnemonics[0], 'Mnemonic 2': mnemonics[1], 'Mnemonic 3': mnemonics[2]}, ignore_index=True)\n",
    "        \n",
    "        # Sleep for a random amount of time between 1-3 seconds\n",
    "        #time.sleep(30)\n",
    "        \n",
    "    except requests.exceptions.RequestException as e:\n",
    "        # Print an error message if there is an exception\n",
    "        print(f\"Error scraping data for {word}: {e}\")\n",
    "\n",
    "# Save the DataFrame to an Excel file\n",
    "mnemonics_df.to_excel('C:/Users/Lenovo/Desktop/shanu tech dump/web scrapper/output_mnemonics.xlsx', index=False)"
   ]
  }
 ],
 "metadata": {
  "kernelspec": {
   "display_name": "Python 3 (ipykernel)",
   "language": "python",
   "name": "python3"
  },
  "language_info": {
   "codemirror_mode": {
    "name": "ipython",
    "version": 3
   },
   "file_extension": ".py",
   "mimetype": "text/x-python",
   "name": "python",
   "nbconvert_exporter": "python",
   "pygments_lexer": "ipython3",
   "version": "3.9.7"
  }
 },
 "nbformat": 4,
 "nbformat_minor": 5
}
